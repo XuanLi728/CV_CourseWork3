{
 "cells": [
  {
   "cell_type": "code",
   "execution_count": 11,
   "metadata": {},
   "outputs": [
    {
     "data": {
      "text/plain": [
       "array([ 1.47470712, -0.10640484,  0.96949823,  1.20813227,  1.09097201,\n",
       "       -0.35419341,  1.25946861,  1.2886719 ,  1.22492137,  0.47964654,\n",
       "       -1.196787  ,  1.15942674,  0.52097022, -1.12316012, -0.00530417,\n",
       "       -0.02305665])"
      ]
     },
     "execution_count": 11,
     "metadata": {},
     "output_type": "execute_result"
    }
   ],
   "source": [
    "import numpy as np \n",
    "import cv2\n",
    "from skimage.util.shape import view_as_blocks\n",
    "from sklearn.preprocessing import StandardScaler\n",
    "\n",
    "patches=[]\n",
    "patch_size=8\n",
    "img = np.random.rand(256,256)\n",
    "scaler = StandardScaler().fit(img)\n",
    "img = scaler.transform(img)# 归一化\n",
    "for block in np.reshape(view_as_blocks(img, block_shape=(patch_size, patch_size)), (-1, patch_size, patch_size)): # 将图片分割为8x8的窗口\n",
    "    # np.reshape(cv2.pyrDown(cv2.pyrDown(block)), (-1,))\n",
    "    patches.append(np.reshape(block[::2,::2], (-1,))) # 2次下采样，当作每隔4个采样  shape: (4,)\n",
    "\n",
    "patches[0]"
   ]
  },
  {
   "cell_type": "code",
   "execution_count": null,
   "metadata": {},
   "outputs": [],
   "source": [
    "# logistic regression for multi-class classification using built-in one-vs-rest\n",
    "from sklearn.datasets import make_classification\n",
    "from sklearn.linear_model import LogisticRegression\n",
    "# define dataset\n",
    "X, y = make_classification(n_samples=1000, n_features=10, n_informative=5, n_redundant=5, n_classes=3, random_state=1)\n",
    "# define model\n",
    "model = LogisticRegression(multi_class='ovr')\n",
    "# fit model\n",
    "model.fit(X, y)\n",
    "# make predictions\n",
    "yhat = model.predict(X)"
   ]
  }
 ],
 "metadata": {
  "interpreter": {
   "hash": "6b002cc8d2b97285e60e5ab18b71139f28748b0204d6828807dd5baf7483dc05"
  },
  "kernelspec": {
   "display_name": "Python 3.8.11 ('cv')",
   "language": "python",
   "name": "python3"
  },
  "language_info": {
   "codemirror_mode": {
    "name": "ipython",
    "version": 3
   },
   "file_extension": ".py",
   "mimetype": "text/x-python",
   "name": "python",
   "nbconvert_exporter": "python",
   "pygments_lexer": "ipython3",
   "version": "3.8.11"
  },
  "orig_nbformat": 4
 },
 "nbformat": 4,
 "nbformat_minor": 2
}
